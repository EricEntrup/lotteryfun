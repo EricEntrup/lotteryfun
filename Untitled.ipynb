{
 "cells": [
  {
   "cell_type": "code",
   "execution_count": 1,
   "metadata": {},
   "outputs": [],
   "source": [
    "import numpy as np\n",
    "import pandas as pd\n",
    "from datetime import datetime\n",
    "from matplotlib import pyplot as plt\n",
    "import seaborn as sns\n",
    "%matplotlib inline"
   ]
  },
  {
   "cell_type": "code",
   "execution_count": 2,
   "metadata": {},
   "outputs": [
    {
     "data": {
      "text/html": [
       "<div>\n",
       "<style scoped>\n",
       "    .dataframe tbody tr th:only-of-type {\n",
       "        vertical-align: middle;\n",
       "    }\n",
       "\n",
       "    .dataframe tbody tr th {\n",
       "        vertical-align: top;\n",
       "    }\n",
       "\n",
       "    .dataframe thead th {\n",
       "        text-align: right;\n",
       "    }\n",
       "</style>\n",
       "<table border=\"1\" class=\"dataframe\">\n",
       "  <thead>\n",
       "    <tr style=\"text-align: right;\">\n",
       "      <th></th>\n",
       "      <th>Game</th>\n",
       "      <th>month</th>\n",
       "      <th>day</th>\n",
       "      <th>year</th>\n",
       "      <th>n1</th>\n",
       "      <th>n2</th>\n",
       "      <th>n3</th>\n",
       "      <th>n4</th>\n",
       "      <th>n5</th>\n",
       "      <th>ball</th>\n",
       "      <th>multiplier</th>\n",
       "      <th>date</th>\n",
       "    </tr>\n",
       "  </thead>\n",
       "  <tbody>\n",
       "    <tr>\n",
       "      <th>1451</th>\n",
       "      <td>Mega Millions</td>\n",
       "      <td>10</td>\n",
       "      <td>31</td>\n",
       "      <td>2017</td>\n",
       "      <td>31</td>\n",
       "      <td>53</td>\n",
       "      <td>6</td>\n",
       "      <td>28</td>\n",
       "      <td>52</td>\n",
       "      <td>12</td>\n",
       "      <td>4</td>\n",
       "      <td>2017-10-31</td>\n",
       "    </tr>\n",
       "    <tr>\n",
       "      <th>1452</th>\n",
       "      <td>Mega Millions</td>\n",
       "      <td>11</td>\n",
       "      <td>3</td>\n",
       "      <td>2017</td>\n",
       "      <td>69</td>\n",
       "      <td>10</td>\n",
       "      <td>61</td>\n",
       "      <td>42</td>\n",
       "      <td>22</td>\n",
       "      <td>3</td>\n",
       "      <td>2</td>\n",
       "      <td>2017-11-03</td>\n",
       "    </tr>\n",
       "    <tr>\n",
       "      <th>1453</th>\n",
       "      <td>Mega Millions</td>\n",
       "      <td>11</td>\n",
       "      <td>7</td>\n",
       "      <td>2017</td>\n",
       "      <td>1</td>\n",
       "      <td>68</td>\n",
       "      <td>69</td>\n",
       "      <td>60</td>\n",
       "      <td>54</td>\n",
       "      <td>11</td>\n",
       "      <td>4</td>\n",
       "      <td>2017-11-07</td>\n",
       "    </tr>\n",
       "    <tr>\n",
       "      <th>1454</th>\n",
       "      <td>Mega Millions</td>\n",
       "      <td>11</td>\n",
       "      <td>10</td>\n",
       "      <td>2017</td>\n",
       "      <td>6</td>\n",
       "      <td>38</td>\n",
       "      <td>42</td>\n",
       "      <td>23</td>\n",
       "      <td>58</td>\n",
       "      <td>24</td>\n",
       "      <td>2</td>\n",
       "      <td>2017-11-10</td>\n",
       "    </tr>\n",
       "    <tr>\n",
       "      <th>1455</th>\n",
       "      <td>Mega Millions</td>\n",
       "      <td>11</td>\n",
       "      <td>14</td>\n",
       "      <td>2017</td>\n",
       "      <td>14</td>\n",
       "      <td>1</td>\n",
       "      <td>21</td>\n",
       "      <td>22</td>\n",
       "      <td>28</td>\n",
       "      <td>19</td>\n",
       "      <td>3</td>\n",
       "      <td>2017-11-14</td>\n",
       "    </tr>\n",
       "    <tr>\n",
       "      <th>...</th>\n",
       "      <td>...</td>\n",
       "      <td>...</td>\n",
       "      <td>...</td>\n",
       "      <td>...</td>\n",
       "      <td>...</td>\n",
       "      <td>...</td>\n",
       "      <td>...</td>\n",
       "      <td>...</td>\n",
       "      <td>...</td>\n",
       "      <td>...</td>\n",
       "      <td>...</td>\n",
       "      <td>...</td>\n",
       "    </tr>\n",
       "    <tr>\n",
       "      <th>1781</th>\n",
       "      <td>Mega Millions</td>\n",
       "      <td>12</td>\n",
       "      <td>29</td>\n",
       "      <td>2020</td>\n",
       "      <td>62</td>\n",
       "      <td>31</td>\n",
       "      <td>35</td>\n",
       "      <td>48</td>\n",
       "      <td>1</td>\n",
       "      <td>19</td>\n",
       "      <td>3</td>\n",
       "      <td>2020-12-29</td>\n",
       "    </tr>\n",
       "    <tr>\n",
       "      <th>1782</th>\n",
       "      <td>Mega Millions</td>\n",
       "      <td>1</td>\n",
       "      <td>1</td>\n",
       "      <td>2021</td>\n",
       "      <td>24</td>\n",
       "      <td>68</td>\n",
       "      <td>69</td>\n",
       "      <td>53</td>\n",
       "      <td>8</td>\n",
       "      <td>7</td>\n",
       "      <td>5</td>\n",
       "      <td>2021-01-01</td>\n",
       "    </tr>\n",
       "    <tr>\n",
       "      <th>1783</th>\n",
       "      <td>Mega Millions</td>\n",
       "      <td>1</td>\n",
       "      <td>5</td>\n",
       "      <td>2021</td>\n",
       "      <td>43</td>\n",
       "      <td>20</td>\n",
       "      <td>51</td>\n",
       "      <td>57</td>\n",
       "      <td>55</td>\n",
       "      <td>4</td>\n",
       "      <td>2</td>\n",
       "      <td>2021-01-05</td>\n",
       "    </tr>\n",
       "    <tr>\n",
       "      <th>1784</th>\n",
       "      <td>Mega Millions</td>\n",
       "      <td>1</td>\n",
       "      <td>8</td>\n",
       "      <td>2021</td>\n",
       "      <td>18</td>\n",
       "      <td>3</td>\n",
       "      <td>58</td>\n",
       "      <td>16</td>\n",
       "      <td>6</td>\n",
       "      <td>11</td>\n",
       "      <td>2</td>\n",
       "      <td>2021-01-08</td>\n",
       "    </tr>\n",
       "    <tr>\n",
       "      <th>1785</th>\n",
       "      <td>Mega Millions</td>\n",
       "      <td>1</td>\n",
       "      <td>12</td>\n",
       "      <td>2021</td>\n",
       "      <td>28</td>\n",
       "      <td>12</td>\n",
       "      <td>14</td>\n",
       "      <td>26</td>\n",
       "      <td>33</td>\n",
       "      <td>9</td>\n",
       "      <td>2</td>\n",
       "      <td>2021-01-12</td>\n",
       "    </tr>\n",
       "  </tbody>\n",
       "</table>\n",
       "<p>335 rows × 12 columns</p>\n",
       "</div>"
      ],
      "text/plain": [
       "               Game  month  day  year  n1  n2  n3  n4  n5  ball  multiplier  \\\n",
       "1451  Mega Millions     10   31  2017  31  53   6  28  52    12           4   \n",
       "1452  Mega Millions     11    3  2017  69  10  61  42  22     3           2   \n",
       "1453  Mega Millions     11    7  2017   1  68  69  60  54    11           4   \n",
       "1454  Mega Millions     11   10  2017   6  38  42  23  58    24           2   \n",
       "1455  Mega Millions     11   14  2017  14   1  21  22  28    19           3   \n",
       "...             ...    ...  ...   ...  ..  ..  ..  ..  ..   ...         ...   \n",
       "1781  Mega Millions     12   29  2020  62  31  35  48   1    19           3   \n",
       "1782  Mega Millions      1    1  2021  24  68  69  53   8     7           5   \n",
       "1783  Mega Millions      1    5  2021  43  20  51  57  55     4           2   \n",
       "1784  Mega Millions      1    8  2021  18   3  58  16   6    11           2   \n",
       "1785  Mega Millions      1   12  2021  28  12  14  26  33     9           2   \n",
       "\n",
       "           date  \n",
       "1451 2017-10-31  \n",
       "1452 2017-11-03  \n",
       "1453 2017-11-07  \n",
       "1454 2017-11-10  \n",
       "1455 2017-11-14  \n",
       "...         ...  \n",
       "1781 2020-12-29  \n",
       "1782 2021-01-01  \n",
       "1783 2021-01-05  \n",
       "1784 2021-01-08  \n",
       "1785 2021-01-12  \n",
       "\n",
       "[335 rows x 12 columns]"
      ]
     },
     "execution_count": 2,
     "metadata": {},
     "output_type": "execute_result"
    }
   ],
   "source": [
    "data = pd.read_csv('megamillions.csv', header=None)\n",
    "data.columns =  ['Game', 'month', 'day', 'year', 'n1', 'n2', 'n3', 'n4', 'n5', 'ball', 'multiplier']\n",
    "data['date'] = data.apply(lambda x: datetime(x['year'], x['month'], x['day']), axis=1)\n",
    "data = data[data.date > datetime(2017, 10, 27)].sort_values('date')\n",
    "data"
   ]
  },
  {
   "cell_type": "code",
   "execution_count": 3,
   "metadata": {},
   "outputs": [],
   "source": [
    "df = pd.melt(data[['date','n1','n2','n3','n4','n5']], id_vars=['date'], var_name='A', value_name='nums').drop(columns=['A'])"
   ]
  },
  {
   "cell_type": "code",
   "execution_count": 4,
   "metadata": {},
   "outputs": [
    {
     "data": {
      "image/png": "[encoded data removed]",
      "text/plain": [
       "<Figure size 1152x720 with 1 Axes>"
      ]
     },
     "metadata": {
      "needs_background": "light"
     },
     "output_type": "display_data"
    }
   ],
   "source": [
    "plt.figure(figsize=(16,10))\n",
    "sns.histplot(df, x='nums', palette='rocket', alpha=.3, bins=70);"
   ]
  },
  {
   "cell_type": "code",
   "execution_count": 5,
   "metadata": {},
   "outputs": [
    {
     "data": {
      "image/png": "[encoded data removed]",
      "text/plain": [
       "<Figure size 1152x720 with 1 Axes>"
      ]
     },
     "metadata": {
      "needs_background": "light"
     },
     "output_type": "display_data"
    }
   ],
   "source": [
    "plt.figure(figsize=(16,10))\n",
    "sns.histplot(data[['date','ball']], x='ball', palette='rocket', alpha=.3, bins=25);"
   ]
  },
  {
   "cell_type": "code",
   "execution_count": 6,
   "metadata": {},
   "outputs": [],
   "source": [
    "A = df[['date', 'nums']]"
   ]
  },
  {
   "cell_type": "code",
   "execution_count": 7,
   "metadata": {},
   "outputs": [
    {
     "data": {
      "text/plain": [
       "<AxesSubplot:xlabel='date', ylabel='nums'>"
      ]
     },
     "execution_count": 7,
     "metadata": {},
     "output_type": "execute_result"
    },
    {
     "data": {
      "image/png": "[encoded data removed]",
      "text/plain": [
       "<Figure size 3240x1080 with 1 Axes>"
      ]
     },
     "metadata": {
      "needs_background": "light"
     },
     "output_type": "display_data"
    }
   ],
   "source": [
    "A = df[['date', 'nums']]\n",
    "B = pd.crosstab(A.date, A.nums).sort_values('date')\n",
    "plt.figure(figsize=(45,15))\n",
    "sns.heatmap(B.T, cbar=False, cmap='rocket')"
   ]
  },
  {
   "cell_type": "code",
   "execution_count": 8,
   "metadata": {},
   "outputs": [
    {
     "data": {
      "text/plain": [
       "<AxesSubplot:xlabel='date', ylabel='ball'>"
      ]
     },
     "execution_count": 8,
     "metadata": {},
     "output_type": "execute_result"
    },
    {
     "data": {
      "image/png": "[encoded data removed]",
      "text/plain": [
       "<Figure size 3240x360 with 1 Axes>"
      ]
     },
     "metadata": {
      "needs_background": "light"
     },
     "output_type": "display_data"
    }
   ],
   "source": [
    "G = data[['date', 'ball']]\n",
    "H = pd.crosstab(G.date, G.ball).sort_values('date')\n",
    "plt.figure(figsize=(45,5))\n",
    "sns.heatmap(H.T, cbar=False, cmap='rocket')"
   ]
  },
  {
   "cell_type": "code",
   "execution_count": 80,
   "metadata": {},
   "outputs": [
    {
     "data": {
      "text/plain": [
       "<AxesSubplot:>"
      ]
     },
     "execution_count": 80,
     "metadata": {},
     "output_type": "execute_result"
    },
    {
     "data": {
      "image/png": "[encoded data removed]",
      "text/plain": [
       "<Figure size 864x720 with 1 Axes>"
      ]
     },
     "metadata": {
      "needs_background": "light"
     },
     "output_type": "display_data"
    }
   ],
   "source": [
    "plt.figure(figsize=(12,10))\n",
    "sns.heatmap(B.T.values[:, -20:], cbar=False, cmap='rocket')"
   ]
  },
  {
   "cell_type": "code",
   "execution_count": 59,
   "metadata": {},
   "outputs": [
    {
     "data": {
      "text/html": [
       "<div>\n",
       "<style scoped>\n",
       "    .dataframe tbody tr th:only-of-type {\n",
       "        vertical-align: middle;\n",
       "    }\n",
       "\n",
       "    .dataframe tbody tr th {\n",
       "        vertical-align: top;\n",
       "    }\n",
       "\n",
       "    .dataframe thead th {\n",
       "        text-align: right;\n",
       "    }\n",
       "</style>\n",
       "<table border=\"1\" class=\"dataframe\">\n",
       "  <thead>\n",
       "    <tr style=\"text-align: right;\">\n",
       "      <th>nums</th>\n",
       "      <th>1</th>\n",
       "      <th>2</th>\n",
       "      <th>3</th>\n",
       "      <th>4</th>\n",
       "      <th>5</th>\n",
       "      <th>6</th>\n",
       "      <th>7</th>\n",
       "      <th>8</th>\n",
       "      <th>9</th>\n",
       "      <th>10</th>\n",
       "      <th>...</th>\n",
       "      <th>61</th>\n",
       "      <th>62</th>\n",
       "      <th>63</th>\n",
       "      <th>64</th>\n",
       "      <th>65</th>\n",
       "      <th>66</th>\n",
       "      <th>67</th>\n",
       "      <th>68</th>\n",
       "      <th>69</th>\n",
       "      <th>70</th>\n",
       "    </tr>\n",
       "    <tr>\n",
       "      <th>date</th>\n",
       "      <th></th>\n",
       "      <th></th>\n",
       "      <th></th>\n",
       "      <th></th>\n",
       "      <th></th>\n",
       "      <th></th>\n",
       "      <th></th>\n",
       "      <th></th>\n",
       "      <th></th>\n",
       "      <th></th>\n",
       "      <th></th>\n",
       "      <th></th>\n",
       "      <th></th>\n",
       "      <th></th>\n",
       "      <th></th>\n",
       "      <th></th>\n",
       "      <th></th>\n",
       "      <th></th>\n",
       "      <th></th>\n",
       "      <th></th>\n",
       "      <th></th>\n",
       "    </tr>\n",
       "  </thead>\n",
       "  <tbody>\n",
       "    <tr>\n",
       "      <th>2017-10-31</th>\n",
       "      <td>0</td>\n",
       "      <td>0</td>\n",
       "      <td>0</td>\n",
       "      <td>0</td>\n",
       "      <td>0</td>\n",
       "      <td>1</td>\n",
       "      <td>0</td>\n",
       "      <td>0</td>\n",
       "      <td>0</td>\n",
       "      <td>0</td>\n",
       "      <td>...</td>\n",
       "      <td>0</td>\n",
       "      <td>0</td>\n",
       "      <td>0</td>\n",
       "      <td>0</td>\n",
       "      <td>0</td>\n",
       "      <td>0</td>\n",
       "      <td>0</td>\n",
       "      <td>0</td>\n",
       "      <td>0</td>\n",
       "      <td>0</td>\n",
       "    </tr>\n",
       "    <tr>\n",
       "      <th>2017-11-03</th>\n",
       "      <td>0</td>\n",
       "      <td>0</td>\n",
       "      <td>0</td>\n",
       "      <td>0</td>\n",
       "      <td>0</td>\n",
       "      <td>0</td>\n",
       "      <td>0</td>\n",
       "      <td>0</td>\n",
       "      <td>0</td>\n",
       "      <td>1</td>\n",
       "      <td>...</td>\n",
       "      <td>1</td>\n",
       "      <td>0</td>\n",
       "      <td>0</td>\n",
       "      <td>0</td>\n",
       "      <td>0</td>\n",
       "      <td>0</td>\n",
       "      <td>0</td>\n",
       "      <td>0</td>\n",
       "      <td>1</td>\n",
       "      <td>0</td>\n",
       "    </tr>\n",
       "    <tr>\n",
       "      <th>2017-11-07</th>\n",
       "      <td>1</td>\n",
       "      <td>0</td>\n",
       "      <td>0</td>\n",
       "      <td>0</td>\n",
       "      <td>0</td>\n",
       "      <td>0</td>\n",
       "      <td>0</td>\n",
       "      <td>0</td>\n",
       "      <td>0</td>\n",
       "      <td>0</td>\n",
       "      <td>...</td>\n",
       "      <td>0</td>\n",
       "      <td>0</td>\n",
       "      <td>0</td>\n",
       "      <td>0</td>\n",
       "      <td>0</td>\n",
       "      <td>0</td>\n",
       "      <td>0</td>\n",
       "      <td>1</td>\n",
       "      <td>1</td>\n",
       "      <td>0</td>\n",
       "    </tr>\n",
       "    <tr>\n",
       "      <th>2017-11-10</th>\n",
       "      <td>0</td>\n",
       "      <td>0</td>\n",
       "      <td>0</td>\n",
       "      <td>0</td>\n",
       "      <td>0</td>\n",
       "      <td>1</td>\n",
       "      <td>0</td>\n",
       "      <td>0</td>\n",
       "      <td>0</td>\n",
       "      <td>0</td>\n",
       "      <td>...</td>\n",
       "      <td>0</td>\n",
       "      <td>0</td>\n",
       "      <td>0</td>\n",
       "      <td>0</td>\n",
       "      <td>0</td>\n",
       "      <td>0</td>\n",
       "      <td>0</td>\n",
       "      <td>0</td>\n",
       "      <td>0</td>\n",
       "      <td>0</td>\n",
       "    </tr>\n",
       "    <tr>\n",
       "      <th>2017-11-14</th>\n",
       "      <td>1</td>\n",
       "      <td>0</td>\n",
       "      <td>0</td>\n",
       "      <td>0</td>\n",
       "      <td>0</td>\n",
       "      <td>0</td>\n",
       "      <td>0</td>\n",
       "      <td>0</td>\n",
       "      <td>0</td>\n",
       "      <td>0</td>\n",
       "      <td>...</td>\n",
       "      <td>0</td>\n",
       "      <td>0</td>\n",
       "      <td>0</td>\n",
       "      <td>0</td>\n",
       "      <td>0</td>\n",
       "      <td>0</td>\n",
       "      <td>0</td>\n",
       "      <td>0</td>\n",
       "      <td>0</td>\n",
       "      <td>0</td>\n",
       "    </tr>\n",
       "    <tr>\n",
       "      <th>2017-11-17</th>\n",
       "      <td>0</td>\n",
       "      <td>0</td>\n",
       "      <td>1</td>\n",
       "      <td>0</td>\n",
       "      <td>0</td>\n",
       "      <td>0</td>\n",
       "      <td>0</td>\n",
       "      <td>0</td>\n",
       "      <td>0</td>\n",
       "      <td>0</td>\n",
       "      <td>...</td>\n",
       "      <td>0</td>\n",
       "      <td>0</td>\n",
       "      <td>0</td>\n",
       "      <td>0</td>\n",
       "      <td>0</td>\n",
       "      <td>0</td>\n",
       "      <td>0</td>\n",
       "      <td>0</td>\n",
       "      <td>0</td>\n",
       "      <td>1</td>\n",
       "    </tr>\n",
       "    <tr>\n",
       "      <th>2017-11-21</th>\n",
       "      <td>0</td>\n",
       "      <td>0</td>\n",
       "      <td>1</td>\n",
       "      <td>0</td>\n",
       "      <td>0</td>\n",
       "      <td>0</td>\n",
       "      <td>1</td>\n",
       "      <td>0</td>\n",
       "      <td>0</td>\n",
       "      <td>0</td>\n",
       "      <td>...</td>\n",
       "      <td>0</td>\n",
       "      <td>0</td>\n",
       "      <td>0</td>\n",
       "      <td>0</td>\n",
       "      <td>0</td>\n",
       "      <td>0</td>\n",
       "      <td>0</td>\n",
       "      <td>0</td>\n",
       "      <td>0</td>\n",
       "      <td>0</td>\n",
       "    </tr>\n",
       "    <tr>\n",
       "      <th>2017-11-24</th>\n",
       "      <td>0</td>\n",
       "      <td>0</td>\n",
       "      <td>0</td>\n",
       "      <td>0</td>\n",
       "      <td>0</td>\n",
       "      <td>0</td>\n",
       "      <td>0</td>\n",
       "      <td>0</td>\n",
       "      <td>0</td>\n",
       "      <td>0</td>\n",
       "      <td>...</td>\n",
       "      <td>1</td>\n",
       "      <td>0</td>\n",
       "      <td>0</td>\n",
       "      <td>1</td>\n",
       "      <td>0</td>\n",
       "      <td>0</td>\n",
       "      <td>0</td>\n",
       "      <td>0</td>\n",
       "      <td>0</td>\n",
       "      <td>0</td>\n",
       "    </tr>\n",
       "    <tr>\n",
       "      <th>2017-11-28</th>\n",
       "      <td>0</td>\n",
       "      <td>0</td>\n",
       "      <td>0</td>\n",
       "      <td>0</td>\n",
       "      <td>0</td>\n",
       "      <td>0</td>\n",
       "      <td>0</td>\n",
       "      <td>0</td>\n",
       "      <td>0</td>\n",
       "      <td>1</td>\n",
       "      <td>...</td>\n",
       "      <td>1</td>\n",
       "      <td>0</td>\n",
       "      <td>0</td>\n",
       "      <td>0</td>\n",
       "      <td>0</td>\n",
       "      <td>0</td>\n",
       "      <td>0</td>\n",
       "      <td>0</td>\n",
       "      <td>0</td>\n",
       "      <td>0</td>\n",
       "    </tr>\n",
       "    <tr>\n",
       "      <th>2017-12-01</th>\n",
       "      <td>0</td>\n",
       "      <td>0</td>\n",
       "      <td>0</td>\n",
       "      <td>0</td>\n",
       "      <td>0</td>\n",
       "      <td>0</td>\n",
       "      <td>0</td>\n",
       "      <td>0</td>\n",
       "      <td>0</td>\n",
       "      <td>0</td>\n",
       "      <td>...</td>\n",
       "      <td>0</td>\n",
       "      <td>0</td>\n",
       "      <td>0</td>\n",
       "      <td>0</td>\n",
       "      <td>0</td>\n",
       "      <td>0</td>\n",
       "      <td>0</td>\n",
       "      <td>0</td>\n",
       "      <td>0</td>\n",
       "      <td>0</td>\n",
       "    </tr>\n",
       "  </tbody>\n",
       "</table>\n",
       "<p>10 rows × 70 columns</p>\n",
       "</div>"
      ],
      "text/plain": [
       "nums        1   2   3   4   5   6   7   8   9   10  ...  61  62  63  64  65  \\\n",
       "date                                                ...                       \n",
       "2017-10-31   0   0   0   0   0   1   0   0   0   0  ...   0   0   0   0   0   \n",
       "2017-11-03   0   0   0   0   0   0   0   0   0   1  ...   1   0   0   0   0   \n",
       "2017-11-07   1   0   0   0   0   0   0   0   0   0  ...   0   0   0   0   0   \n",
       "2017-11-10   0   0   0   0   0   1   0   0   0   0  ...   0   0   0   0   0   \n",
       "2017-11-14   1   0   0   0   0   0   0   0   0   0  ...   0   0   0   0   0   \n",
       "2017-11-17   0   0   1   0   0   0   0   0   0   0  ...   0   0   0   0   0   \n",
       "2017-11-21   0   0   1   0   0   0   1   0   0   0  ...   0   0   0   0   0   \n",
       "2017-11-24   0   0   0   0   0   0   0   0   0   0  ...   1   0   0   1   0   \n",
       "2017-11-28   0   0   0   0   0   0   0   0   0   1  ...   1   0   0   0   0   \n",
       "2017-12-01   0   0   0   0   0   0   0   0   0   0  ...   0   0   0   0   0   \n",
       "\n",
       "nums        66  67  68  69  70  \n",
       "date                            \n",
       "2017-10-31   0   0   0   0   0  \n",
       "2017-11-03   0   0   0   1   0  \n",
       "2017-11-07   0   0   1   1   0  \n",
       "2017-11-10   0   0   0   0   0  \n",
       "2017-11-14   0   0   0   0   0  \n",
       "2017-11-17   0   0   0   0   1  \n",
       "2017-11-21   0   0   0   0   0  \n",
       "2017-11-24   0   0   0   0   0  \n",
       "2017-11-28   0   0   0   0   0  \n",
       "2017-12-01   0   0   0   0   0  \n",
       "\n",
       "[10 rows x 70 columns]"
      ]
     },
     "execution_count": 59,
     "metadata": {},
     "output_type": "execute_result"
    }
   ],
   "source": [
    "B.sort_values('date').head(10)"
   ]
  },
  {
   "cell_type": "code",
   "execution_count": 10,
   "metadata": {},
   "outputs": [],
   "source": [
    "X = B.sort_values('date').values"
   ]
  },
  {
   "cell_type": "code",
   "execution_count": null,
   "metadata": {},
   "outputs": [],
   "source": []
  },
  {
   "cell_type": "code",
   "execution_count": 259,
   "metadata": {},
   "outputs": [
    {
     "name": "stdout",
     "output_type": "stream",
     "text": [
      "105 105\n"
     ]
    }
   ],
   "source": [
    "x = []\n",
    "y = []\n",
    "for i in range(0, len(X) - 21, 3):\n",
    "    x.append(X[i:i+20, :])\n",
    "    y.append(X[i+21, :])\n",
    "    \n",
    "print(len(x), len(y))"
   ]
  },
  {
   "cell_type": "code",
   "execution_count": 260,
   "metadata": {},
   "outputs": [],
   "source": [
    "np.array(x).shape\n",
    "\n",
    "\n",
    "\n",
    "X_train = np.array(x)[:99]\n",
    "y_train = np.array(y)[:99]\n",
    "\n",
    "X_train = np.expand_dims(X_train, axis=-1)"
   ]
  },
  {
   "cell_type": "code",
   "execution_count": 261,
   "metadata": {},
   "outputs": [],
   "source": [
    "from keras.models import Sequential\n",
    "from keras import backend\n",
    "from keras.layers import Dense, Conv2D, Flatten\n",
    "\n",
    "import tensorflow as tf\n",
    "config = tf.ConfigProto()\n",
    "config.gpu_options.allow_growth = True\n",
    "session = tf.Session(config=config)\n",
    "\n",
    "\n",
    "# #create model\n",
    "backend.set_image_data_format('channels_last')\n",
    "model = Sequential()\n",
    "#add model layers\n",
    "model.add(Conv2D(256, kernel_size=3, activation='relu', input_shape=(20,70,1)))\n",
    "model.add(Conv2D(128, kernel_size=3, activation='relu', padding='same'))\n",
    "model.add(Conv2D(128, kernel_size=3, activation='relu', padding='same'))\n",
    "model.add(Conv2D(128, kernel_size=3, activation='relu', padding='same'))\n",
    "model.add(Conv2D(128, kernel_size=3, activation='tanh'))\n",
    "\n",
    "\n",
    "model.add(Flatten())\n",
    "model.add(Dense(70, activation='relu'))"
   ]
  },
  {
   "cell_type": "code",
   "execution_count": 262,
   "metadata": {},
   "outputs": [
    {
     "name": "stdout",
     "output_type": "stream",
     "text": [
      "_________________________________________________________________\n",
      "Layer (type)                 Output Shape              Param #   \n",
      "=================================================================\n",
      "conv2d_202 (Conv2D)          (None, 18, 68, 256)       2560      \n",
      "_________________________________________________________________\n",
      "conv2d_203 (Conv2D)          (None, 18, 68, 128)       295040    \n",
      "_________________________________________________________________\n",
      "conv2d_204 (Conv2D)          (None, 18, 68, 128)       147584    \n",
      "_________________________________________________________________\n",
      "conv2d_205 (Conv2D)          (None, 18, 68, 128)       147584    \n",
      "_________________________________________________________________\n",
      "conv2d_206 (Conv2D)          (None, 16, 66, 128)       147584    \n",
      "_________________________________________________________________\n",
      "flatten_22 (Flatten)         (None, 135168)            0         \n",
      "_________________________________________________________________\n",
      "dense_22 (Dense)             (None, 70)                9461830   \n",
      "=================================================================\n",
      "Total params: 10,202,182\n",
      "Trainable params: 10,202,182\n",
      "Non-trainable params: 0\n",
      "_________________________________________________________________\n"
     ]
    }
   ],
   "source": [
    "model.summary()"
   ]
  },
  {
   "cell_type": "code",
   "execution_count": 263,
   "metadata": {},
   "outputs": [
    {
     "name": "stdout",
     "output_type": "stream",
     "text": [
      "Epoch 1/10\n",
      "99/99 [==============================] - 2s 18ms/step - loss: 53.0116 - acc: 0.0000e+00\n",
      "Epoch 2/10\n",
      "99/99 [==============================] - 0s 957us/step - loss: 48.5815 - acc: 0.0000e+00\n",
      "Epoch 3/10\n",
      "99/99 [==============================] - 0s 846us/step - loss: 47.9900 - acc: 0.0000e+00\n",
      "Epoch 4/10\n",
      "99/99 [==============================] - 0s 883us/step - loss: 47.8781 - acc: 0.0000e+00\n",
      "Epoch 5/10\n",
      "99/99 [==============================] - 0s 996us/step - loss: 47.8209 - acc: 0.0000e+00\n",
      "Epoch 6/10\n",
      "99/99 [==============================] - 0s 850us/step - loss: 47.8015 - acc: 0.0000e+00\n",
      "Epoch 7/10\n",
      "99/99 [==============================] - 0s 841us/step - loss: 47.7864 - acc: 0.0000e+00\n",
      "Epoch 8/10\n",
      "99/99 [==============================] - 0s 937us/step - loss: 47.7678 - acc: 0.0000e+00\n",
      "Epoch 9/10\n",
      "99/99 [==============================] - 0s 837us/step - loss: 47.7579 - acc: 0.0000e+00\n",
      "Epoch 10/10\n",
      "99/99 [==============================] - 0s 844us/step - loss: 47.7466 - acc: 0.0000e+00\n"
     ]
    },
    {
     "data": {
      "text/plain": [
       "<keras.callbacks.History at 0x7f52f12ccb90>"
      ]
     },
     "execution_count": 263,
     "metadata": {},
     "output_type": "execute_result"
    }
   ],
   "source": [
    "model.compile(optimizer='adam', loss='categorical_crossentropy', metrics=['accuracy'])\n",
    "model.fit(X_train, y_train, epochs=10)"
   ]
  },
  {
   "cell_type": "code",
   "execution_count": 267,
   "metadata": {},
   "outputs": [
    {
     "name": "stdout",
     "output_type": "stream",
     "text": [
      "Epoch 1/100\n",
      "99/99 [==============================] - 0s 1ms/step - loss: 9.3400 - acc: 0.1414\n",
      "Epoch 2/100\n",
      "99/99 [==============================] - 0s 992us/step - loss: 9.2524 - acc: 0.2222\n",
      "Epoch 3/100\n",
      "99/99 [==============================] - 0s 999us/step - loss: 9.2349 - acc: 0.2020\n",
      "Epoch 4/100\n",
      "99/99 [==============================] - 0s 887us/step - loss: 9.1919 - acc: 0.1818\n",
      "Epoch 5/100\n",
      "99/99 [==============================] - 0s 894us/step - loss: 9.1380 - acc: 0.1414\n",
      "Epoch 6/100\n",
      "99/99 [==============================] - 0s 901us/step - loss: 9.1730 - acc: 0.1717\n",
      "Epoch 7/100\n",
      "99/99 [==============================] - 0s 893us/step - loss: 9.2883 - acc: 0.1515\n",
      "Epoch 8/100\n",
      "99/99 [==============================] - 0s 882us/step - loss: 9.1703 - acc: 0.1616\n",
      "Epoch 9/100\n",
      "99/99 [==============================] - 0s 858us/step - loss: 9.1120 - acc: 0.1313\n",
      "Epoch 10/100\n",
      "99/99 [==============================] - 0s 837us/step - loss: 9.3889 - acc: 0.1616\n",
      "Epoch 11/100\n",
      "99/99 [==============================] - 0s 826us/step - loss: 9.4260 - acc: 0.1919\n",
      "Epoch 12/100\n",
      "99/99 [==============================] - 0s 841us/step - loss: 9.7303 - acc: 0.2020\n",
      "Epoch 13/100\n",
      "99/99 [==============================] - 0s 842us/step - loss: 9.5893 - acc: 0.1818\n",
      "Epoch 14/100\n",
      "99/99 [==============================] - 0s 854us/step - loss: 9.4612 - acc: 0.1313\n",
      "Epoch 15/100\n",
      "99/99 [==============================] - 0s 866us/step - loss: 9.3885 - acc: 0.1919\n",
      "Epoch 16/100\n",
      "99/99 [==============================] - 0s 971us/step - loss: 9.6633 - acc: 0.2222\n",
      "Epoch 17/100\n",
      "99/99 [==============================] - 0s 914us/step - loss: 10.0290 - acc: 0.2424\n",
      "Epoch 18/100\n",
      "99/99 [==============================] - 0s 878us/step - loss: 10.0332 - acc: 0.2525\n",
      "Epoch 19/100\n",
      "99/99 [==============================] - 0s 889us/step - loss: 10.0338 - acc: 0.2424\n",
      "Epoch 20/100\n",
      "99/99 [==============================] - 0s 890us/step - loss: 10.0089 - acc: 0.2121\n",
      "Epoch 21/100\n",
      "99/99 [==============================] - 0s 891us/step - loss: 10.1277 - acc: 0.1414\n",
      "Epoch 22/100\n",
      "99/99 [==============================] - 0s 886us/step - loss: 10.1155 - acc: 0.1313\n",
      "Epoch 23/100\n",
      "99/99 [==============================] - 0s 885us/step - loss: 10.1108 - acc: 0.1515\n",
      "Epoch 24/100\n",
      "99/99 [==============================] - 0s 889us/step - loss: 10.0967 - acc: 0.1717\n",
      "Epoch 25/100\n",
      "99/99 [==============================] - 0s 893us/step - loss: 10.0872 - acc: 0.1616\n",
      "Epoch 26/100\n",
      "99/99 [==============================] - 0s 885us/step - loss: 10.0805 - acc: 0.1919\n",
      "Epoch 27/100\n",
      "99/99 [==============================] - 0s 900us/step - loss: 10.0775 - acc: 0.2222\n",
      "Epoch 28/100\n",
      "99/99 [==============================] - 0s 892us/step - loss: 10.0865 - acc: 0.2626\n",
      "Epoch 29/100\n",
      "99/99 [==============================] - 0s 919us/step - loss: 10.1406 - acc: 0.2222\n",
      "Epoch 30/100\n",
      "99/99 [==============================] - 0s 901us/step - loss: 10.1343 - acc: 0.2424\n",
      "Epoch 31/100\n",
      "99/99 [==============================] - 0s 912us/step - loss: 10.0982 - acc: 0.2020\n",
      "Epoch 32/100\n",
      "99/99 [==============================] - 0s 894us/step - loss: 10.0849 - acc: 0.1919\n",
      "Epoch 33/100\n",
      "99/99 [==============================] - 0s 898us/step - loss: 10.0743 - acc: 0.2222\n",
      "Epoch 34/100\n",
      "99/99 [==============================] - 0s 905us/step - loss: 10.0683 - acc: 0.1818\n",
      "Epoch 35/100\n",
      "99/99 [==============================] - 0s 892us/step - loss: 10.0654 - acc: 0.1919\n",
      "Epoch 36/100\n",
      "99/99 [==============================] - 0s 887us/step - loss: 10.0616 - acc: 0.1818\n",
      "Epoch 37/100\n",
      "99/99 [==============================] - 0s 892us/step - loss: 10.0563 - acc: 0.1414\n",
      "Epoch 38/100\n",
      "99/99 [==============================] - 0s 926us/step - loss: 10.0537 - acc: 0.1616\n",
      "Epoch 39/100\n",
      "99/99 [==============================] - 0s 902us/step - loss: 10.0593 - acc: 0.2020\n",
      "Epoch 40/100\n",
      "99/99 [==============================] - 0s 919us/step - loss: 10.0882 - acc: 0.2020\n",
      "Epoch 41/100\n",
      "99/99 [==============================] - 0s 973us/step - loss: 10.0940 - acc: 0.1717\n",
      "Epoch 42/100\n",
      "99/99 [==============================] - 0s 941us/step - loss: 10.0739 - acc: 0.1717\n",
      "Epoch 43/100\n",
      "99/99 [==============================] - 0s 902us/step - loss: 10.0744 - acc: 0.2121\n",
      "Epoch 44/100\n",
      "99/99 [==============================] - 0s 928us/step - loss: 10.0729 - acc: 0.2222\n",
      "Epoch 45/100\n",
      "99/99 [==============================] - 0s 919us/step - loss: 10.0893 - acc: 0.1919\n",
      "Epoch 46/100\n",
      "99/99 [==============================] - 0s 942us/step - loss: 10.0889 - acc: 0.2121\n",
      "Epoch 47/100\n",
      "99/99 [==============================] - 0s 916us/step - loss: 10.0757 - acc: 0.2020\n",
      "Epoch 48/100\n",
      "99/99 [==============================] - 0s 935us/step - loss: 10.0669 - acc: 0.2020\n",
      "Epoch 49/100\n",
      "99/99 [==============================] - 0s 917us/step - loss: 10.0768 - acc: 0.2222\n",
      "Epoch 50/100\n",
      "99/99 [==============================] - 0s 926us/step - loss: 10.0837 - acc: 0.2626\n",
      "Epoch 51/100\n",
      "99/99 [==============================] - 0s 896us/step - loss: 10.0966 - acc: 0.2121\n",
      "Epoch 52/100\n",
      "99/99 [==============================] - 0s 929us/step - loss: 10.0895 - acc: 0.2222\n",
      "Epoch 53/100\n",
      "99/99 [==============================] - 0s 910us/step - loss: 10.0768 - acc: 0.2424\n",
      "Epoch 54/100\n",
      "99/99 [==============================] - 0s 935us/step - loss: 10.0859 - acc: 0.2626\n",
      "Epoch 55/100\n",
      "99/99 [==============================] - 0s 898us/step - loss: 10.0812 - acc: 0.2222\n",
      "Epoch 56/100\n",
      "99/99 [==============================] - 0s 912us/step - loss: 10.0993 - acc: 0.1919\n",
      "Epoch 57/100\n",
      "99/99 [==============================] - 0s 879us/step - loss: 10.1115 - acc: 0.1919\n",
      "Epoch 58/100\n",
      "99/99 [==============================] - 0s 923us/step - loss: 10.1268 - acc: 0.2222\n",
      "Epoch 59/100\n",
      "99/99 [==============================] - 0s 922us/step - loss: 10.1926 - acc: 0.1818\n",
      "Epoch 60/100\n",
      "99/99 [==============================] - 0s 922us/step - loss: 10.1542 - acc: 0.1717\n",
      "Epoch 61/100\n",
      "99/99 [==============================] - 0s 924us/step - loss: 10.1182 - acc: 0.1818\n",
      "Epoch 62/100\n",
      "99/99 [==============================] - 0s 898us/step - loss: 10.0933 - acc: 0.1616\n",
      "Epoch 63/100\n",
      "99/99 [==============================] - 0s 916us/step - loss: 10.0831 - acc: 0.1717\n",
      "Epoch 64/100\n",
      "99/99 [==============================] - 0s 910us/step - loss: 10.0910 - acc: 0.1919\n",
      "Epoch 65/100\n",
      "99/99 [==============================] - 0s 928us/step - loss: 10.0731 - acc: 0.1313\n",
      "Epoch 66/100\n",
      "99/99 [==============================] - 0s 926us/step - loss: 10.0665 - acc: 0.1515\n",
      "Epoch 67/100\n",
      "99/99 [==============================] - 0s 951us/step - loss: 10.0625 - acc: 0.1818\n",
      "Epoch 68/100\n",
      "99/99 [==============================] - 0s 907us/step - loss: 10.0591 - acc: 0.1919\n",
      "Epoch 69/100\n",
      "99/99 [==============================] - 0s 914us/step - loss: 10.0549 - acc: 0.1616\n",
      "Epoch 70/100\n",
      "99/99 [==============================] - 0s 906us/step - loss: 10.0517 - acc: 0.1212\n",
      "Epoch 71/100\n",
      "99/99 [==============================] - 0s 926us/step - loss: 10.0633 - acc: 0.1616\n",
      "Epoch 72/100\n",
      "99/99 [==============================] - 0s 910us/step - loss: 10.0716 - acc: 0.1919\n",
      "Epoch 73/100\n",
      "99/99 [==============================] - 0s 929us/step - loss: 10.0661 - acc: 0.1212\n",
      "Epoch 74/100\n",
      "99/99 [==============================] - 0s 895us/step - loss: 10.0572 - acc: 0.1313\n",
      "Epoch 75/100\n",
      "99/99 [==============================] - 0s 936us/step - loss: 10.0474 - acc: 0.2020\n",
      "Epoch 76/100\n",
      "99/99 [==============================] - 0s 935us/step - loss: 10.0427 - acc: 0.2424\n",
      "Epoch 77/100\n",
      "99/99 [==============================] - 0s 906us/step - loss: 10.0391 - acc: 0.2525\n",
      "Epoch 78/100\n",
      "99/99 [==============================] - 0s 909us/step - loss: 10.0337 - acc: 0.1717\n",
      "Epoch 79/100\n",
      "99/99 [==============================] - 0s 916us/step - loss: 10.0314 - acc: 0.1616\n",
      "Epoch 80/100\n",
      "99/99 [==============================] - 0s 940us/step - loss: 10.0285 - acc: 0.2020\n",
      "Epoch 81/100\n",
      "99/99 [==============================] - 0s 941us/step - loss: 10.0256 - acc: 0.1717\n",
      "Epoch 82/100\n",
      "99/99 [==============================] - 0s 908us/step - loss: 10.0230 - acc: 0.2020\n",
      "Epoch 83/100\n",
      "99/99 [==============================] - 0s 924us/step - loss: 10.0214 - acc: 0.2525\n",
      "Epoch 84/100\n",
      "99/99 [==============================] - 0s 892us/step - loss: 10.0204 - acc: 0.2222\n",
      "Epoch 85/100\n",
      "99/99 [==============================] - 0s 937us/step - loss: 10.0178 - acc: 0.1818\n",
      "Epoch 86/100\n",
      "99/99 [==============================] - 0s 914us/step - loss: 10.0165 - acc: 0.2020\n",
      "Epoch 87/100\n",
      "99/99 [==============================] - 0s 923us/step - loss: 10.0141 - acc: 0.2020\n",
      "Epoch 88/100\n",
      "99/99 [==============================] - 0s 903us/step - loss: 10.0122 - acc: 0.1515\n",
      "Epoch 89/100\n",
      "99/99 [==============================] - 0s 925us/step - loss: 10.0123 - acc: 0.1616\n",
      "Epoch 90/100\n",
      "99/99 [==============================] - 0s 915us/step - loss: 10.0099 - acc: 0.2626\n",
      "Epoch 91/100\n",
      "99/99 [==============================] - 0s 891us/step - loss: 10.0092 - acc: 0.2424\n",
      "Epoch 92/100\n",
      "99/99 [==============================] - 0s 936us/step - loss: 10.0153 - acc: 0.2525\n",
      "Epoch 93/100\n",
      "99/99 [==============================] - 0s 927us/step - loss: 10.0130 - acc: 0.2525\n",
      "Epoch 94/100\n",
      "99/99 [==============================] - 0s 930us/step - loss: 10.0138 - acc: 0.2222\n",
      "Epoch 95/100\n",
      "99/99 [==============================] - 0s 899us/step - loss: 10.0371 - acc: 0.1717\n",
      "Epoch 96/100\n",
      "99/99 [==============================] - 0s 932us/step - loss: 10.0359 - acc: 0.2121\n",
      "Epoch 97/100\n",
      "99/99 [==============================] - 0s 948us/step - loss: 10.0890 - acc: 0.2020\n",
      "Epoch 98/100\n",
      "99/99 [==============================] - 0s 912us/step - loss: 10.0820 - acc: 0.1616\n",
      "Epoch 99/100\n",
      "99/99 [==============================] - 0s 896us/step - loss: 10.0353 - acc: 0.1818\n",
      "Epoch 100/100\n",
      "99/99 [==============================] - 0s 898us/step - loss: 10.0209 - acc: 0.1616\n"
     ]
    },
    {
     "data": {
      "text/plain": [
       "<keras.callbacks.History at 0x7f52f1a71d50>"
      ]
     },
     "execution_count": 267,
     "metadata": {},
     "output_type": "execute_result"
    }
   ],
   "source": [
    "model.fit(X_train, y_train, epochs=100)"
   ]
  },
  {
   "cell_type": "code",
   "execution_count": 268,
   "metadata": {},
   "outputs": [],
   "source": [
    "X_test = np.array(x)[99:]\n",
    "y_test = np.array(y)[99:]\n",
    "\n",
    "X_test = np.expand_dims(X_test, axis=-1)\n",
    "\n",
    "pred = model.predict(X_test)"
   ]
  },
  {
   "cell_type": "code",
   "execution_count": 269,
   "metadata": {},
   "outputs": [
    {
     "name": "stdout",
     "output_type": "stream",
     "text": [
      "[ 8 13 35 46 68]\n"
     ]
    },
    {
     "data": {
      "image/png": "[encoded data removed]",
      "text/plain": [
       "<Figure size 2520x72 with 1 Axes>"
      ]
     },
     "metadata": {
      "needs_background": "light"
     },
     "output_type": "display_data"
    },
    {
     "data": {
      "image/png": "[encoded data removed]",
      "text/plain": [
       "<Figure size 2520x72 with 1 Axes>"
      ]
     },
     "metadata": {
      "needs_background": "light"
     },
     "output_type": "display_data"
    },
    {
     "name": "stdout",
     "output_type": "stream",
     "text": [
      "----------------------------------------------------------------------------------------------------\n",
      "[ 4 10 27 35 58]\n"
     ]
    },
    {
     "data": {
      "image/png": "[encoded data removed]",
      "text/plain": [
       "<Figure size 2520x72 with 1 Axes>"
      ]
     },
     "metadata": {
      "needs_background": "light"
     },
     "output_type": "display_data"
    },
    {
     "data": {
      "image/png": "[encoded data removed]",
      "text/plain": [
       "<Figure size 2520x72 with 1 Axes>"
      ]
     },
     "metadata": {
      "needs_background": "light"
     },
     "output_type": "display_data"
    },
    {
     "name": "stdout",
     "output_type": "stream",
     "text": [
      "----------------------------------------------------------------------------------------------------\n",
      "[15 19 33 39 68]\n"
     ]
    },
    {
     "data": {
      "image/png": "[encoded data removed]",
      "text/plain": [
       "<Figure size 2520x72 with 1 Axes>"
      ]
     },
     "metadata": {
      "needs_background": "light"
     },
     "output_type": "display_data"
    },
    {
     "data": {
      "image/png": "[encoded data removed]",
      "text/plain": [
       "<Figure size 2520x72 with 1 Axes>"
      ]
     },
     "metadata": {
      "needs_background": "light"
     },
     "output_type": "display_data"
    },
    {
     "name": "stdout",
     "output_type": "stream",
     "text": [
      "----------------------------------------------------------------------------------------------------\n",
      "[ 7 15 25 51 60]\n"
     ]
    },
    {
     "data": {
      "image/png": "[encoded data removed]",
      "text/plain": [
       "<Figure size 2520x72 with 1 Axes>"
      ]
     },
     "metadata": {
      "needs_background": "light"
     },
     "output_type": "display_data"
    },
    {
     "data": {
      "image/png": "[encoded data removed]",
      "text/plain": [
       "<Figure size 2520x72 with 1 Axes>"
      ]
     },
     "metadata": {
      "needs_background": "light"
     },
     "output_type": "display_data"
    },
    {
     "name": "stdout",
     "output_type": "stream",
     "text": [
      "----------------------------------------------------------------------------------------------------\n",
      "[ 1 31 35 48 62]\n"
     ]
    },
    {
     "data": {
      "image/png": "[encoded data removed]",
      "text/plain": [
       "<Figure size 2520x72 with 1 Axes>"
      ]
     },
     "metadata": {
      "needs_background": "light"
     },
     "output_type": "display_data"
    },
    {
     "data": {
      "image/png": "[encoded data removed]",
      "text/plain": [
       "<Figure size 2520x72 with 1 Axes>"
      ]
     },
     "metadata": {
      "needs_background": "light"
     },
     "output_type": "display_data"
    },
    {
     "name": "stdout",
     "output_type": "stream",
     "text": [
      "----------------------------------------------------------------------------------------------------\n",
      "[ 3  6 16 18 58]\n"
     ]
    },
    {
     "data": {
      "image/png": "[encoded data removed]",
      "text/plain": [
       "<Figure size 2520x72 with 1 Axes>"
      ]
     },
     "metadata": {
      "needs_background": "light"
     },
     "output_type": "display_data"
    },
    {
     "data": {
      "image/png": "[encoded data removed]",
      "text/plain": [
       "<Figure size 2520x72 with 1 Axes>"
      ]
     },
     "metadata": {
      "needs_background": "light"
     },
     "output_type": "display_data"
    },
    {
     "name": "stdout",
     "output_type": "stream",
     "text": [
      "----------------------------------------------------------------------------------------------------\n"
     ]
    }
   ],
   "source": [
    "for y1, p in zip(y_test, pred):\n",
    "    print(np.where(y1>0)[0]+1)\n",
    "    plt.figure(figsize=(35,1))\n",
    "    sns.heatmap(np.expand_dims(y1, axis=0), cbar=False)\n",
    "    plt.show()\n",
    "    plt.figure(figsize=(35,1))\n",
    "    sns.heatmap(np.expand_dims(p, axis=0), cbar=False)\n",
    "    plt.show()\n",
    "    print('-'*100)"
   ]
  },
  {
   "cell_type": "code",
   "execution_count": 37,
   "metadata": {},
   "outputs": [
    {
     "data": {
      "text/plain": [
       "array([], dtype=int64)"
      ]
     },
     "execution_count": 37,
     "metadata": {},
     "output_type": "execute_result"
    }
   ],
   "source": [
    "y_test"
   ]
  },
  {
   "cell_type": "code",
   "execution_count": null,
   "metadata": {},
   "outputs": [],
   "source": [
    " \n",
    "from __future__ import print_function, division\n",
    "import scipy\n",
    "\n",
    "from keras.datasets import mnist\n",
    "from keras_contrib.layers.normalization.instancenormalization import InstanceNormalization\n",
    "from keras.layers import Input, Dense, Reshape, Flatten, Dropout, Concatenate\n",
    "from keras.layers import BatchNormalization, Activation, ZeroPadding2D\n",
    "from keras.layers.advanced_activations import LeakyReLU\n",
    "from keras.layers.convolutional import UpSampling2D, Conv2D\n",
    "from keras.models import Sequential, Model\n",
    "from keras.optimizers import Adam\n",
    "import datetime\n",
    "import matplotlib.pyplot as plt\n",
    "import sys\n",
    "from data_loader import DataLoader\n",
    "import numpy as np\n",
    "import os\n",
    "\n",
    "class CycleGAN():\n",
    "    def __init__(self):\n",
    "        # Input shape\n",
    "        self.img_rows = 128\n",
    "        self.img_cols = 128\n",
    "        self.channels = 3\n",
    "        self.img_shape = (self.img_rows, self.img_cols, self.channels)\n",
    "\n",
    "        # Configure data loader\n",
    "        self.dataset_name = 'apple2orange'\n",
    "        self.data_loader = DataLoader(dataset_name=self.dataset_name,\n",
    "                                      img_res=(self.img_rows, self.img_cols))\n",
    "\n",
    "\n",
    "        patch = int(self.img_rows / 2**4)\n",
    "        self.disc_patch = (patch, patch, 1)\n",
    "\n",
    "        self.gf = 32\n",
    "        self.df = 64\n",
    "\n",
    "        # Loss weights\n",
    "        self.lambda_cycle = 10.0                    # Cycle-consistency loss\n",
    "        self.lambda_id = 0.1 * self.lambda_cycle    # Identity loss\n",
    "\n",
    "        optimizer = Adam(0.0002, 0.5)\n",
    "\n",
    "        # Build and compile the discriminators\n",
    "        self.d_A = self.build_discriminator()\n",
    "        self.d_B = self.build_discriminator()\n",
    "        self.d_A.compile(loss='mse',\n",
    "            optimizer=optimizer,\n",
    "            metrics=['accuracy'])\n",
    "        self.d_B.compile(loss='mse',\n",
    "            optimizer=optimizer,\n",
    "            metrics=['accuracy'])\n",
    "\n",
    "        #-------------------------\n",
    "        # Construct Computational\n",
    "        #   Graph of Generators\n",
    "        #-------------------------\n",
    "\n",
    "        # Build the generators\n",
    "        self.g_AB = self.build_generator()\n",
    "        self.g_BA = self.build_generator()\n",
    "\n",
    "        # Input images from both domains\n",
    "        img_A = Input(shape=self.img_shape)\n",
    "        img_B = Input(shape=self.img_shape)\n",
    "\n",
    "        # Translate images to the other domain\n",
    "        fake_B = self.g_AB(img_A)\n",
    "        fake_A = self.g_BA(img_B)\n",
    "        # Translate images back to original domain\n",
    "        reconstr_A = self.g_BA(fake_B)\n",
    "        reconstr_B = self.g_AB(fake_A)\n",
    "        # Identity mapping of images\n",
    "        img_A_id = self.g_BA(img_A)\n",
    "        img_B_id = self.g_AB(img_B)\n",
    "\n",
    "        # For the combined model we will only train the generators\n",
    "        self.d_A.trainable = False\n",
    "        self.d_B.trainable = False\n",
    "\n",
    "        # Discriminators determines validity of translated images\n",
    "        valid_A = self.d_A(fake_A)\n",
    "        valid_B = self.d_B(fake_B)\n",
    "\n",
    "        # Combined model trains generators to fool discriminators\n",
    "        self.combined = Model(inputs=[img_A, img_B],\n",
    "                              outputs=[ valid_A, valid_B,\n",
    "                                        reconstr_A, reconstr_B,\n",
    "                                        img_A_id, img_B_id ])\n",
    "        self.combined.compile(loss=['mse', 'mse',\n",
    "                                    'mae', 'mae',\n",
    "                                    'mae', 'mae'],\n",
    "                            loss_weights=[  1, 1,\n",
    "                                            self.lambda_cycle, self.lambda_cycle,\n",
    "                                            self.lambda_id, self.lambda_id ],\n",
    "                            optimizer=optimizer)\n",
    "\n",
    "    def build_generator(self):\n",
    "        \"\"\"U-Net Generator\"\"\"\n",
    "\n",
    "        def conv2d(layer_input, filters, f_size=4):\n",
    "            \"\"\"Layers used during downsampling\"\"\"\n",
    "            d = Conv2D(filters, kernel_size=f_size, strides=2, padding='same')(layer_input)\n",
    "            d = LeakyReLU(alpha=0.2)(d)\n",
    "            d = InstanceNormalization()(d)\n",
    "            return d\n",
    "\n",
    "        def deconv2d(layer_input, skip_input, filters, f_size=4, dropout_rate=0):\n",
    "            \"\"\"Layers used during upsampling\"\"\"\n",
    "            u = UpSampling2D(size=2)(layer_input)\n",
    "            u = Conv2D(filters, kernel_size=f_size, strides=1, padding='same', activation='relu')(u)\n",
    "            if dropout_rate:\n",
    "                u = Dropout(dropout_rate)(u)\n",
    "            u = InstanceNormalization()(u)\n",
    "            u = Concatenate()([u, skip_input])\n",
    "            return u\n",
    "\n",
    "        # Image input\n",
    "        d0 = Input(shape=self.img_shape)\n",
    "\n",
    "        # Downsampling\n",
    "        d1 = conv2d(d0, self.gf)\n",
    "        d2 = conv2d(d1, self.gf*2)\n",
    "        d3 = conv2d(d2, self.gf*4)\n",
    "        d4 = conv2d(d3, self.gf*8)\n",
    "\n",
    "        # Upsampling\n",
    "        u1 = deconv2d(d4, d3, self.gf*4)\n",
    "        u2 = deconv2d(u1, d2, self.gf*2)\n",
    "        u3 = deconv2d(u2, d1, self.gf)\n",
    "\n",
    "        u4 = UpSampling2D(size=2)(u3)\n",
    "        output_img = Conv2D(self.channels, kernel_size=4, strides=1, padding='same', activation='tanh')(u4)\n",
    "\n",
    "        return Model(d0, output_img)\n",
    "\n",
    "    def build_discriminator(self):\n",
    "\n",
    "        def d_layer(layer_input, filters, f_size=4, normalization=True):\n",
    "            \"\"\"Discriminator layer\"\"\"\n",
    "            d = Conv2D(filters, kernel_size=f_size, strides=2, padding='same')(layer_input)\n",
    "            d = LeakyReLU(alpha=0.2)(d)\n",
    "            if normalization:\n",
    "                d = InstanceNormalization()(d)\n",
    "            return d\n",
    "\n",
    "        img = Input(shape=self.img_shape)\n",
    "\n",
    "        d1 = d_layer(img, self.df, normalization=False)\n",
    "        d2 = d_layer(d1, self.df*2)\n",
    "        d3 = d_layer(d2, self.df*4)\n",
    "        d4 = d_layer(d3, self.df*8)\n",
    "\n",
    "        validity = Conv2D(1, kernel_size=4, strides=1, padding='same')(d4)\n",
    "\n",
    "        return Model(img, validity)\n",
    "\n",
    "    def train(self, epochs, batch_size=1, sample_interval=50):\n",
    "\n",
    "        start_time = datetime.datetime.now()\n",
    "\n",
    "        # Adversarial loss ground truths\n",
    "        valid = np.ones((batch_size,) + self.disc_patch)\n",
    "        fake = np.zeros((batch_size,) + self.disc_patch)\n",
    "\n",
    "        for epoch in range(epochs):\n",
    "            for batch_i, (imgs_A, imgs_B) in enumerate(self.data_loader.load_batch(batch_size)):\n",
    "\n",
    "                # ----------------------\n",
    "                #  Train Discriminators\n",
    "                # ----------------------\n",
    "\n",
    "                # Translate images to opposite domain\n",
    "                fake_B = self.g_AB.predict(imgs_A)\n",
    "                fake_A = self.g_BA.predict(imgs_B)\n",
    "\n",
    "                # Train the discriminators (original images = real / translated = Fake)\n",
    "                dA_loss_real = self.d_A.train_on_batch(imgs_A, valid)\n",
    "                dA_loss_fake = self.d_A.train_on_batch(fake_A, fake)\n",
    "                dA_loss = 0.5 * np.add(dA_loss_real, dA_loss_fake)\n",
    "\n",
    "                dB_loss_real = self.d_B.train_on_batch(imgs_B, valid)\n",
    "                dB_loss_fake = self.d_B.train_on_batch(fake_B, fake)\n",
    "                dB_loss = 0.5 * np.add(dB_loss_real, dB_loss_fake)\n",
    "\n",
    "                # Total disciminator loss\n",
    "                d_loss = 0.5 * np.add(dA_loss, dB_loss)\n",
    "\n",
    "\n",
    "                # ------------------\n",
    "                #  Train Generators\n",
    "                # ------------------\n",
    "\n",
    "                # Train the generators\n",
    "                g_loss = self.combined.train_on_batch([imgs_A, imgs_B],\n",
    "                                                        [valid, valid,\n",
    "                                                        imgs_A, imgs_B,\n",
    "                                                        imgs_A, imgs_B])\n",
    "\n",
    "                elapsed_time = datetime.datetime.now() - start_time\n",
    "\n",
    "                # Plot the progress\n",
    "                print (\"[Epoch %d/%d] [Batch %d/%d] [D loss: %f, acc: %3d%%] [G loss: %05f, adv: %05f, recon: %05f, id: %05f] time: %s \" \\\n",
    "                                                                        % ( epoch, epochs,\n",
    "                                                                            batch_i, self.data_loader.n_batches,\n",
    "                                                                            d_loss[0], 100*d_loss[1],\n",
    "                                                                            g_loss[0],\n",
    "                                                                            np.mean(g_loss[1:3]),\n",
    "                                                                            np.mean(g_loss[3:5]),\n",
    "                                                                            np.mean(g_loss[5:6]),\n",
    "                                                                            elapsed_time))\n",
    "\n",
    "                # If at save interval => save generated image samples\n",
    "                if batch_i % sample_interval == 0:\n",
    "                    self.sample_images(epoch, batch_i)\n",
    "\n",
    "    def sample_images(self, epoch, batch_i):\n",
    "        os.makedirs('images/%s' % self.dataset_name, exist_ok=True)\n",
    "        r, c = 2, 3\n",
    "\n",
    "        imgs_A = self.data_loader.load_data(domain=\"A\", batch_size=1, is_testing=True)\n",
    "        imgs_B = self.data_loader.load_data(domain=\"B\", batch_size=1, is_testing=True)\n",
    "\n",
    "        # Demo (for GIF)\n",
    "        #imgs_A = self.data_loader.load_img('datasets/apple2orange/testA/n07740461_1541.jpg')\n",
    "        #imgs_B = self.data_loader.load_img('datasets/apple2orange/testB/n07749192_4241.jpg')\n",
    "\n",
    "        # Translate images to the other domain\n",
    "        fake_B = self.g_AB.predict(imgs_A)\n",
    "        fake_A = self.g_BA.predict(imgs_B)\n",
    "        # Translate back to original domain\n",
    "        reconstr_A = self.g_BA.predict(fake_B)\n",
    "        reconstr_B = self.g_AB.predict(fake_A)\n",
    "\n",
    "        gen_imgs = np.concatenate([imgs_A, fake_B, reconstr_A, imgs_B, fake_A, reconstr_B])\n",
    "\n",
    "        # Rescale images 0 - 1\n",
    "        gen_imgs = 0.5 * gen_imgs + 0.5\n",
    "\n",
    "        titles = ['Original', 'Translated', 'Reconstructed']\n",
    "        fig, axs = plt.subplots(r, c)\n",
    "        cnt = 0\n",
    "        for i in range(r):\n",
    "            for j in range(c):\n",
    "                axs[i,j].imshow(gen_imgs[cnt])\n",
    "                axs[i, j].set_title(titles[j])\n",
    "                axs[i,j].axis('off')\n",
    "                cnt += 1\n",
    "        fig.savefig(\"images/%s/%d_%d.png\" % (self.dataset_name, epoch, batch_i))\n",
    "        plt.close()\n",
    "\n",
    "\n"
   ]
  },
  {
   "cell_type": "code",
   "execution_count": 256,
   "metadata": {},
   "outputs": [],
   "source": [
    "from keras.datasets import mnist\n",
    "from keras.layers import Input, Dense, Reshape, Flatten, Dropout, Concatenate\n",
    "# from keras_contrib.layers.normalization.instancenormalization import InstanceNormalization\n",
    "from keras_contrib.layers.normalization.instancenormalization import InstanceNormalization\n",
    "from keras.layers import BatchNormalization, Activation, ZeroPadding2D\n",
    "from keras.layers.advanced_activations import LeakyReLU\n",
    "from keras.layers.convolutional import UpSampling2D, Conv2D\n",
    "from keras.models import Sequential, Model\n",
    "from keras.optimizers import Adam\n",
    "import datetime\n",
    "import numpy as np\n",
    "import os\n",
    "\n",
    "\n",
    "gf = 8\n",
    "df = 16\n",
    "\n",
    "\n",
    "def build_generator():\n",
    "    \"\"\"U-Net Generator\"\"\"\n",
    "\n",
    "    def conv2d(layer_input, filters, f_size=4):\n",
    "        \"\"\"Layers used during downsampling\"\"\"\n",
    "        d = Conv2D(filters, kernel_size=f_size, strides=2, padding='same')(layer_input)\n",
    "        d = LeakyReLU(alpha=0.2)(d)\n",
    "        d = InstanceNormalization()(d)\n",
    "        return d\n",
    "\n",
    "    def deconv2d(layer_input, skip_input, filters, f_size=4, dropout_rate=0):\n",
    "        \"\"\"Layers used during upsampling\"\"\"\n",
    "        u = UpSampling2D(size=2)(layer_input)\n",
    "        u = Conv2D(filters, kernel_size=f_size, strides=1, padding='same', activation='relu')(u)\n",
    "        if dropout_rate:\n",
    "            u = Dropout(dropout_rate)(u)\n",
    "        u = InstanceNormalization()(u)\n",
    "        u = Concatenate()([u, skip_input])\n",
    "        return u\n",
    "\n",
    "    # Image input\n",
    "    d0 = Input(shape=(32,70,1))\n",
    "\n",
    "    # Downsampling\n",
    "    d1 = conv2d(d0, gf)\n",
    "    d2 = conv2d(d1, gf*2)\n",
    "    d3 = conv2d(d2, gf*4)\n",
    "    d4 = conv2d(d3, gf*8)\n",
    "\n",
    "    # Upsampling\n",
    "    u1 = deconv2d(d4, d3, gf*4)\n",
    "    u2 = deconv2d(u1, d2, gf*2)\n",
    "    u3 = deconv2d(u2, d1, gf)\n",
    "\n",
    "    u4 = UpSampling2D(size=2)(u3)\n",
    "    output_img = Conv2D(1, kernel_size=4, strides=1, padding='same', activation='tanh')(u4)\n",
    "\n",
    "    return Model(d0, output_img)\n",
    "\n",
    "\n",
    "\n",
    "\n",
    "\n",
    "\n",
    "def build_discriminator():\n",
    "\n",
    "    def d_layer(layer_input, filters, f_size=4, normalization=True):\n",
    "        \"\"\"Discriminator layer\"\"\"\n",
    "        d = Conv2D(filters, kernel_size=f_size, strides=2, padding='same')(layer_input)\n",
    "        d = LeakyReLU(alpha=0.2)(d)\n",
    "        if normalization:\n",
    "            d = InstanceNormalization()(d)\n",
    "        return d\n",
    "\n",
    "    img = Input(shape=(32,70,1))\n",
    "\n",
    "    d1 = d_layer(img, df, normalization=False)\n",
    "    d2 = d_layer(d1, df*2)\n",
    "    d3 = d_layer(d2, df*4)\n",
    "    d4 = d_layer(d3, df*8)\n",
    "\n",
    "    validity = Conv2D(1, kernel_size=4, strides=1, padding='same')(d4)\n",
    "\n",
    "    return Model(img, validity)"
   ]
  },
  {
   "cell_type": "code",
   "execution_count": 257,
   "metadata": {},
   "outputs": [],
   "source": [
    "optimizer = Adam(0.0002, 0.5)\n",
    "\n",
    "d_A = build_discriminator()\n",
    "d_B = build_discriminator()\n",
    "d_A.compile(loss='mse',optimizer=optimizer, metrics=['accuracy'])\n",
    "d_B.compile(loss='mse',optimizer=optimizer, metrics=['accuracy'])"
   ]
  },
  {
   "cell_type": "code",
   "execution_count": 258,
   "metadata": {},
   "outputs": [
    {
     "ename": "ValueError",
     "evalue": "A `Concatenate` layer requires inputs with matching shapes except for the concat axis. Got inputs shapes: [(None, 4, 10, 32), (None, 4, 9, 32)]",
     "output_type": "error",
     "traceback": [
      "\u001b[0;31m---------------------------------------------------------------------------\u001b[0m",
      "\u001b[0;31mValueError\u001b[0m                                Traceback (most recent call last)",
      "\u001b[0;32m<ipython-input-258-f8ed14751033>\u001b[0m in \u001b[0;36m<module>\u001b[0;34m\u001b[0m\n\u001b[1;32m      1\u001b[0m \u001b[0;31m# Build the generators\u001b[0m\u001b[0;34m\u001b[0m\u001b[0;34m\u001b[0m\u001b[0;34m\u001b[0m\u001b[0m\n\u001b[0;32m----> 2\u001b[0;31m \u001b[0mg_AB\u001b[0m \u001b[0;34m=\u001b[0m \u001b[0mbuild_generator\u001b[0m\u001b[0;34m(\u001b[0m\u001b[0;34m)\u001b[0m\u001b[0;34m\u001b[0m\u001b[0;34m\u001b[0m\u001b[0m\n\u001b[0m\u001b[1;32m      3\u001b[0m \u001b[0mg_BA\u001b[0m \u001b[0;34m=\u001b[0m \u001b[0mbuild_generator\u001b[0m\u001b[0;34m(\u001b[0m\u001b[0;34m)\u001b[0m\u001b[0;34m\u001b[0m\u001b[0;34m\u001b[0m\u001b[0m\n\u001b[1;32m      4\u001b[0m \u001b[0;34m\u001b[0m\u001b[0m\n\u001b[1;32m      5\u001b[0m \u001b[0;31m# Input images from both domains\u001b[0m\u001b[0;34m\u001b[0m\u001b[0;34m\u001b[0m\u001b[0;34m\u001b[0m\u001b[0m\n",
      "\u001b[0;32m<ipython-input-256-995ce32b2c05>\u001b[0m in \u001b[0;36mbuild_generator\u001b[0;34m()\u001b[0m\n\u001b[1;32m     47\u001b[0m \u001b[0;34m\u001b[0m\u001b[0m\n\u001b[1;32m     48\u001b[0m     \u001b[0;31m# Upsampling\u001b[0m\u001b[0;34m\u001b[0m\u001b[0;34m\u001b[0m\u001b[0;34m\u001b[0m\u001b[0m\n\u001b[0;32m---> 49\u001b[0;31m     \u001b[0mu1\u001b[0m \u001b[0;34m=\u001b[0m \u001b[0mdeconv2d\u001b[0m\u001b[0;34m(\u001b[0m\u001b[0md4\u001b[0m\u001b[0;34m,\u001b[0m \u001b[0md3\u001b[0m\u001b[0;34m,\u001b[0m \u001b[0mgf\u001b[0m\u001b[0;34m*\u001b[0m\u001b[0;36m4\u001b[0m\u001b[0;34m)\u001b[0m\u001b[0;34m\u001b[0m\u001b[0;34m\u001b[0m\u001b[0m\n\u001b[0m\u001b[1;32m     50\u001b[0m     \u001b[0mu2\u001b[0m \u001b[0;34m=\u001b[0m \u001b[0mdeconv2d\u001b[0m\u001b[0;34m(\u001b[0m\u001b[0mu1\u001b[0m\u001b[0;34m,\u001b[0m \u001b[0md2\u001b[0m\u001b[0;34m,\u001b[0m \u001b[0mgf\u001b[0m\u001b[0;34m*\u001b[0m\u001b[0;36m2\u001b[0m\u001b[0;34m)\u001b[0m\u001b[0;34m\u001b[0m\u001b[0;34m\u001b[0m\u001b[0m\n\u001b[1;32m     51\u001b[0m     \u001b[0mu3\u001b[0m \u001b[0;34m=\u001b[0m \u001b[0mdeconv2d\u001b[0m\u001b[0;34m(\u001b[0m\u001b[0mu2\u001b[0m\u001b[0;34m,\u001b[0m \u001b[0md1\u001b[0m\u001b[0;34m,\u001b[0m \u001b[0mgf\u001b[0m\u001b[0;34m)\u001b[0m\u001b[0;34m\u001b[0m\u001b[0;34m\u001b[0m\u001b[0m\n",
      "\u001b[0;32m<ipython-input-256-995ce32b2c05>\u001b[0m in \u001b[0;36mdeconv2d\u001b[0;34m(layer_input, skip_input, filters, f_size, dropout_rate)\u001b[0m\n\u001b[1;32m     34\u001b[0m             \u001b[0mu\u001b[0m \u001b[0;34m=\u001b[0m \u001b[0mDropout\u001b[0m\u001b[0;34m(\u001b[0m\u001b[0mdropout_rate\u001b[0m\u001b[0;34m)\u001b[0m\u001b[0;34m(\u001b[0m\u001b[0mu\u001b[0m\u001b[0;34m)\u001b[0m\u001b[0;34m\u001b[0m\u001b[0;34m\u001b[0m\u001b[0m\n\u001b[1;32m     35\u001b[0m         \u001b[0mu\u001b[0m \u001b[0;34m=\u001b[0m \u001b[0mInstanceNormalization\u001b[0m\u001b[0;34m(\u001b[0m\u001b[0;34m)\u001b[0m\u001b[0;34m(\u001b[0m\u001b[0mu\u001b[0m\u001b[0;34m)\u001b[0m\u001b[0;34m\u001b[0m\u001b[0;34m\u001b[0m\u001b[0m\n\u001b[0;32m---> 36\u001b[0;31m         \u001b[0mu\u001b[0m \u001b[0;34m=\u001b[0m \u001b[0mConcatenate\u001b[0m\u001b[0;34m(\u001b[0m\u001b[0;34m)\u001b[0m\u001b[0;34m(\u001b[0m\u001b[0;34m[\u001b[0m\u001b[0mu\u001b[0m\u001b[0;34m,\u001b[0m \u001b[0mskip_input\u001b[0m\u001b[0;34m]\u001b[0m\u001b[0;34m)\u001b[0m\u001b[0;34m\u001b[0m\u001b[0;34m\u001b[0m\u001b[0m\n\u001b[0m\u001b[1;32m     37\u001b[0m         \u001b[0;32mreturn\u001b[0m \u001b[0mu\u001b[0m\u001b[0;34m\u001b[0m\u001b[0;34m\u001b[0m\u001b[0m\n\u001b[1;32m     38\u001b[0m \u001b[0;34m\u001b[0m\u001b[0m\n",
      "\u001b[0;32m~/anaconda3/lib/python3.7/site-packages/keras/engine/base_layer.py\u001b[0m in \u001b[0;36m__call__\u001b[0;34m(self, inputs, **kwargs)\u001b[0m\n\u001b[1;32m    429\u001b[0m                                          \u001b[0;34m'You can build it manually via: '\u001b[0m\u001b[0;34m\u001b[0m\u001b[0;34m\u001b[0m\u001b[0m\n\u001b[1;32m    430\u001b[0m                                          '`layer.build(batch_input_shape)`')\n\u001b[0;32m--> 431\u001b[0;31m                 \u001b[0mself\u001b[0m\u001b[0;34m.\u001b[0m\u001b[0mbuild\u001b[0m\u001b[0;34m(\u001b[0m\u001b[0munpack_singleton\u001b[0m\u001b[0;34m(\u001b[0m\u001b[0minput_shapes\u001b[0m\u001b[0;34m)\u001b[0m\u001b[0;34m)\u001b[0m\u001b[0;34m\u001b[0m\u001b[0;34m\u001b[0m\u001b[0m\n\u001b[0m\u001b[1;32m    432\u001b[0m                 \u001b[0mself\u001b[0m\u001b[0;34m.\u001b[0m\u001b[0mbuilt\u001b[0m \u001b[0;34m=\u001b[0m \u001b[0;32mTrue\u001b[0m\u001b[0;34m\u001b[0m\u001b[0;34m\u001b[0m\u001b[0m\n\u001b[1;32m    433\u001b[0m \u001b[0;34m\u001b[0m\u001b[0m\n",
      "\u001b[0;32m~/anaconda3/lib/python3.7/site-packages/keras/layers/merge.py\u001b[0m in \u001b[0;36mbuild\u001b[0;34m(self, input_shape)\u001b[0m\n\u001b[1;32m    360\u001b[0m                              \u001b[0;34m'inputs with matching shapes '\u001b[0m\u001b[0;34m\u001b[0m\u001b[0;34m\u001b[0m\u001b[0m\n\u001b[1;32m    361\u001b[0m                              \u001b[0;34m'except for the concat axis. '\u001b[0m\u001b[0;34m\u001b[0m\u001b[0;34m\u001b[0m\u001b[0m\n\u001b[0;32m--> 362\u001b[0;31m                              'Got inputs shapes: %s' % (input_shape))\n\u001b[0m\u001b[1;32m    363\u001b[0m \u001b[0;34m\u001b[0m\u001b[0m\n\u001b[1;32m    364\u001b[0m     \u001b[0;32mdef\u001b[0m \u001b[0m_merge_function\u001b[0m\u001b[0;34m(\u001b[0m\u001b[0mself\u001b[0m\u001b[0;34m,\u001b[0m \u001b[0minputs\u001b[0m\u001b[0;34m)\u001b[0m\u001b[0;34m:\u001b[0m\u001b[0;34m\u001b[0m\u001b[0;34m\u001b[0m\u001b[0m\n",
      "\u001b[0;31mValueError\u001b[0m: A `Concatenate` layer requires inputs with matching shapes except for the concat axis. Got inputs shapes: [(None, 4, 10, 32), (None, 4, 9, 32)]"
     ]
    }
   ],
   "source": [
    "# Build the generators\n",
    "g_AB = build_generator()\n",
    "g_BA = build_generator()\n",
    "\n",
    "# Input images from both domains\n",
    "img_A = Input(shape=(32,70,1))\n",
    "img_B = Input(shape=(32,70,1))\n",
    "\n",
    "# Translate images to the other domain\n",
    "fake_B = g_AB(img_A)\n",
    "fake_A = g_BA(img_B)\n",
    "# Translate images back to original domain\n",
    "reconstr_A = g_BA(fake_B)\n",
    "reconstr_B = g_AB(fake_A)\n",
    "# Identity mapping of images\n",
    "img_A_id = g_BA(img_A)\n",
    "img_B_id = g_AB(img_B)\n",
    "\n",
    "# For the combined model we will only train the generators\n",
    "d_A.trainable = False\n",
    "d_B.trainable = False\n",
    "\n",
    "# Discriminators determines validity of translated images\n",
    "valid_A = d_A(fake_A)\n",
    "valid_B = d_B(fake_B)"
   ]
  },
  {
   "cell_type": "code",
   "execution_count": null,
   "metadata": {},
   "outputs": [],
   "source": [
    "\n",
    "lambda_cycle = 10.0 \n",
    "lambda_id = 0.1 * lambda_cycle\n",
    "\n",
    "combined = Model(inputs=[img_A, img_B],\n",
    "                      outputs=[ valid_A, valid_B,\n",
    "                                reconstr_A, reconstr_B,\n",
    "                                img_A_id, img_B_id ])\n",
    "combined.compile(loss=['mse', 'mse',\n",
    "                            'mae', 'mae',\n",
    "                            'mae', 'mae'],\n",
    "                    loss_weights=[  1, 1,\n",
    "                                    lambda_cycle, lambda_cycle,\n",
    "                                    lambda_id, lambda_id ],\n",
    "                    optimizer=optimizer)"
   ]
  },
  {
   "cell_type": "code",
   "execution_count": null,
   "metadata": {},
   "outputs": [],
   "source": [
    "        start_time = datetime.datetime.now()\n",
    "\n",
    "        # Adversarial loss ground truths\n",
    "        valid = np.ones((batch_size,) + self.disc_patch)\n",
    "        fake = np.zeros((batch_size,) + self.disc_patch)\n",
    "\n",
    "        for epoch in range(epochs):\n",
    "            for batch_i, (imgs_A, imgs_B) in enumerate(self.data_loader.load_batch(batch_size)):\n",
    "\n",
    "                # ----------------------\n",
    "                #  Train Discriminators\n",
    "                # ----------------------\n",
    "\n",
    "                # Translate images to opposite domain\n",
    "                fake_B = self.g_AB.predict(imgs_A)\n",
    "                fake_A = self.g_BA.predict(imgs_B)\n",
    "\n",
    "                # Train the discriminators (original images = real / translated = Fake)\n",
    "                dA_loss_real = self.d_A.train_on_batch(imgs_A, valid)\n",
    "                dA_loss_fake = self.d_A.train_on_batch(fake_A, fake)\n",
    "                dA_loss = 0.5 * np.add(dA_loss_real, dA_loss_fake)\n",
    "\n",
    "                dB_loss_real = self.d_B.train_on_batch(imgs_B, valid)\n",
    "                dB_loss_fake = self.d_B.train_on_batch(fake_B, fake)\n",
    "                dB_loss = 0.5 * np.add(dB_loss_real, dB_loss_fake)\n",
    "\n",
    "                # Total disciminator loss\n",
    "                d_loss = 0.5 * np.add(dA_loss, dB_loss)\n",
    "\n",
    "\n",
    "                # ------------------\n",
    "                #  Train Generators\n",
    "                # ------------------\n",
    "\n",
    "                # Train the generators\n",
    "                g_loss = self.combined.train_on_batch([imgs_A, imgs_B],\n",
    "                                                        [valid, valid,\n",
    "                                                        imgs_A, imgs_B,\n",
    "                                                        imgs_A, imgs_B])\n",
    "\n",
    "                elapsed_time = datetime.datetime.now() - start_time\n",
    "\n",
    "                # Plot the progress\n",
    "                print (\"[Epoch %d/%d] [Batch %d/%d] [D loss: %f, acc: %3d%%] [G loss: %05f, adv: %05f, recon: %05f, id: %05f] time: %s \" \\\n",
    "                                                                        % ( epoch, epochs,\n",
    "                                                                            batch_i, self.data_loader.n_batches,\n",
    "                                                                            d_loss[0], 100*d_loss[1],\n",
    "                                                                            g_loss[0],\n",
    "                                                                            np.mean(g_loss[1:3]),\n",
    "                                                                            np.mean(g_loss[3:5]),\n",
    "                                                                            np.mean(g_loss[5:6]),\n",
    "                                                                            elapsed_time))\n",
    "\n",
    "                # If at save interval => save generated image samples\n",
    "                if batch_i % sample_interval == 0:\n",
    "                    self.sample_images(epoch, batch_i)"
   ]
  },
  {
   "cell_type": "code",
   "execution_count": 249,
   "metadata": {},
   "outputs": [],
   "source": [
    "from keras_contrib.layers.normalization.instancenormalization import InstanceNormalization"
   ]
  },
  {
   "cell_type": "code",
   "execution_count": 244,
   "metadata": {},
   "outputs": [],
   "source": [
    "from keras_contrib.layers.normalization.instancenormalization import InstanceNormalization"
   ]
  },
  {
   "cell_type": "code",
   "execution_count": 243,
   "metadata": {},
   "outputs": [
    {
     "ename": "ImportError",
     "evalue": "cannot import name 'InstanceNormalization' from 'keras_contrib.layers.normalization' (/home/eric/anaconda3/lib/python3.7/site-packages/keras_contrib/layers/normalization/__init__.py)",
     "output_type": "error",
     "traceback": [
      "\u001b[0;31m---------------------------------------------------------------------------\u001b[0m",
      "\u001b[0;31mImportError\u001b[0m                               Traceback (most recent call last)",
      "\u001b[0;32m<ipython-input-243-e2e4a1e3a055>\u001b[0m in \u001b[0;36m<module>\u001b[0;34m\u001b[0m\n\u001b[0;32m----> 1\u001b[0;31m \u001b[0;32mfrom\u001b[0m \u001b[0mkeras_contrib\u001b[0m\u001b[0;34m.\u001b[0m\u001b[0mlayers\u001b[0m\u001b[0;34m.\u001b[0m\u001b[0mnormalization\u001b[0m \u001b[0;32mimport\u001b[0m \u001b[0mInstanceNormalization\u001b[0m\u001b[0;34m\u001b[0m\u001b[0;34m\u001b[0m\u001b[0m\n\u001b[0m",
      "\u001b[0;31mImportError\u001b[0m: cannot import name 'InstanceNormalization' from 'keras_contrib.layers.normalization' (/home/eric/anaconda3/lib/python3.7/site-packages/keras_contrib/layers/normalization/__init__.py)"
     ]
    }
   ],
   "source": [
    "from keras_contrib.layers.normalization import InstanceNormalization"
   ]
  }
 ],
 "metadata": {
  "kernelspec": {
   "display_name": "Python 3",
   "language": "python",
   "name": "python3"
  },
  "language_info": {
   "codemirror_mode": {
    "name": "ipython",
    "version": 3
   },
   "file_extension": ".py",
   "mimetype": "text/x-python",
   "name": "python",
   "nbconvert_exporter": "python",
   "pygments_lexer": "ipython3",
   "version": "3.7.5"
  }
 },
 "nbformat": 4,
 "nbformat_minor": 4
}
